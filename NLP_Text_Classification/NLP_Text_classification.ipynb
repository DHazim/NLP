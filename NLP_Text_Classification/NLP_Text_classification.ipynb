{
 "cells": [
  {
   "source": [
    "# Spam Detector Project\n",
    "\n",
    "in this project we aim to classify documents into spam and \"non-spam\" documents. in our approach we will use SpaCy library, bag of words (BoW) and a deep learning structure to predict the class of each document"
   ],
   "cell_type": "markdown",
   "metadata": {}
  },
  {
   "cell_type": "code",
   "execution_count": 48,
   "metadata": {},
   "outputs": [
    {
     "output_type": "stream",
     "name": "stdout",
     "text": [
      "ham\n"
     ]
    }
   ],
   "source": [
    "# !pip install spacy\n",
    "# !python -m spacy download en\n",
    "\n",
    "import pandas as pd\n",
    "\n",
    "# Loading the spam data\n",
    "# ham is the label for non-spam messages\n",
    "spam = pd.read_csv('../Text_Classification/spam.csv')\n",
    "spam.head(10)\n",
    "# print(spam.columns)\n",
    "print(spam['label'][0])"
   ]
  },
  {
   "cell_type": "code",
   "execution_count": 27,
   "metadata": {},
   "outputs": [
    {
     "output_type": "stream",
     "name": "stdout",
     "text": [
      "{'labels': [], 'threshold': 0.5, 'positive_label': None}\n"
     ]
    }
   ],
   "source": [
    "import spacy\n",
    "\n",
    "# Create an empty model\n",
    "nlp = spacy.blank(\"en\")\n",
    "\n",
    "# Create the TextCategorizer with exclusive classes and \"bow\" architecture\n",
    "# config={\"exclusive_classes\": True,\"architecture\": \"bow\",}\n",
    "config={\"model\":{\"@architectures\" : \"spacy.TextCatBOW.v1\",\n",
    "\"exclusive_classes\" : True,\n",
    "\"ngram_size\" : 1,\n",
    "\"no_output_layer\" :False},}\n",
    "textcat = nlp.add_pipe(\"textcat\",config=config)\n",
    "\n",
    "# textcat = nlp.add_pipe(\"textcat\")\n",
    "print(textcat.cfg)\n",
    "# Add the TextCategorizer to the empty model\n",
    "# nlp.add_pipe(\"textcat\")"
   ]
  },
  {
   "cell_type": "code",
   "execution_count": 70,
   "metadata": {},
   "outputs": [
    {
     "output_type": "stream",
     "name": "stdout",
     "text": [
      "{'@architectures': 'spacy.TextCatEnsemble.v2', 'linear_model': {'@architectures': 'spacy.TextCatBOW.v1', 'exclusive_classes': True, 'ngram_size': 1, 'no_output_layer': False}, 'tok2vec': {'@architectures': 'spacy.Tok2Vec.v2', 'embed': {'@architectures': 'spacy.MultiHashEmbed.v1', 'width': 64, 'rows': [2000, 2000, 1000, 1000, 1000, 1000], 'attrs': ['ORTH', 'LOWER', 'PREFIX', 'SUFFIX', 'SHAPE', 'ID'], 'include_static_vectors': False}, 'encode': {'@architectures': 'spacy.MaxoutWindowEncoder.v2', 'width': 64, 'window_size': 1, 'maxout_pieces': 3, 'depth': 2}}}\n"
     ]
    },
    {
     "output_type": "error",
     "ename": "ValueError",
     "evalue": "[E007] 'textcat' already exists in pipeline. Existing names: ['textcat']",
     "traceback": [
      "\u001b[1;31m---------------------------------------------------------------------------\u001b[0m",
      "\u001b[1;31mValueError\u001b[0m                                Traceback (most recent call last)",
      "\u001b[1;32m<ipython-input-70-be42442faa9b>\u001b[0m in \u001b[0;36m<module>\u001b[1;34m\u001b[0m\n\u001b[0;32m      4\u001b[0m \u001b[1;31m# Construction via add_pipe with custom model\u001b[0m\u001b[1;33m\u001b[0m\u001b[1;33m\u001b[0m\u001b[1;33m\u001b[0m\u001b[0m\n\u001b[0;32m      5\u001b[0m \u001b[0mconfig\u001b[0m \u001b[1;33m=\u001b[0m \u001b[1;33m{\u001b[0m\u001b[1;34m\"model\"\u001b[0m\u001b[1;33m:\u001b[0m \u001b[1;33m{\u001b[0m\u001b[1;34m\"@architectures\"\u001b[0m\u001b[1;33m:\u001b[0m \u001b[1;34m\"spacy.TextCatBOW.v1\"\u001b[0m\u001b[1;33m,\u001b[0m\u001b[1;34m\"exclusive_classes\"\u001b[0m\u001b[1;33m:\u001b[0m\u001b[1;32mTrue\u001b[0m\u001b[1;33m,\u001b[0m\u001b[1;33m}\u001b[0m\u001b[1;33m}\u001b[0m\u001b[1;33m\u001b[0m\u001b[1;33m\u001b[0m\u001b[0m\n\u001b[1;32m----> 6\u001b[1;33m \u001b[0mparser\u001b[0m \u001b[1;33m=\u001b[0m \u001b[0mnlp\u001b[0m\u001b[1;33m.\u001b[0m\u001b[0madd_pipe\u001b[0m\u001b[1;33m(\u001b[0m\u001b[1;34m\"textcat\"\u001b[0m\u001b[1;33m,\u001b[0m \u001b[0mconfig\u001b[0m\u001b[1;33m=\u001b[0m\u001b[0mconfig\u001b[0m\u001b[1;33m)\u001b[0m\u001b[1;33m\u001b[0m\u001b[1;33m\u001b[0m\u001b[0m\n\u001b[0m",
      "\u001b[1;32m~\\AppData\\Local\\Programs\\Python\\Python38\\lib\\site-packages\\spacy\\language.py\u001b[0m in \u001b[0;36madd_pipe\u001b[1;34m(self, factory_name, name, before, after, first, last, source, config, raw_config, validate)\u001b[0m\n\u001b[0;32m    749\u001b[0m         \u001b[0mname\u001b[0m \u001b[1;33m=\u001b[0m \u001b[0mname\u001b[0m \u001b[1;32mif\u001b[0m \u001b[0mname\u001b[0m \u001b[1;32mis\u001b[0m \u001b[1;32mnot\u001b[0m \u001b[1;32mNone\u001b[0m \u001b[1;32melse\u001b[0m \u001b[0mfactory_name\u001b[0m\u001b[1;33m\u001b[0m\u001b[1;33m\u001b[0m\u001b[0m\n\u001b[0;32m    750\u001b[0m         \u001b[1;32mif\u001b[0m \u001b[0mname\u001b[0m \u001b[1;32min\u001b[0m \u001b[0mself\u001b[0m\u001b[1;33m.\u001b[0m\u001b[0mcomponent_names\u001b[0m\u001b[1;33m:\u001b[0m\u001b[1;33m\u001b[0m\u001b[1;33m\u001b[0m\u001b[0m\n\u001b[1;32m--> 751\u001b[1;33m             \u001b[1;32mraise\u001b[0m \u001b[0mValueError\u001b[0m\u001b[1;33m(\u001b[0m\u001b[0mErrors\u001b[0m\u001b[1;33m.\u001b[0m\u001b[0mE007\u001b[0m\u001b[1;33m.\u001b[0m\u001b[0mformat\u001b[0m\u001b[1;33m(\u001b[0m\u001b[0mname\u001b[0m\u001b[1;33m=\u001b[0m\u001b[0mname\u001b[0m\u001b[1;33m,\u001b[0m \u001b[0mopts\u001b[0m\u001b[1;33m=\u001b[0m\u001b[0mself\u001b[0m\u001b[1;33m.\u001b[0m\u001b[0mcomponent_names\u001b[0m\u001b[1;33m)\u001b[0m\u001b[1;33m)\u001b[0m\u001b[1;33m\u001b[0m\u001b[1;33m\u001b[0m\u001b[0m\n\u001b[0m\u001b[0;32m    752\u001b[0m         \u001b[1;32mif\u001b[0m \u001b[0msource\u001b[0m \u001b[1;32mis\u001b[0m \u001b[1;32mnot\u001b[0m \u001b[1;32mNone\u001b[0m\u001b[1;33m:\u001b[0m\u001b[1;33m\u001b[0m\u001b[1;33m\u001b[0m\u001b[0m\n\u001b[0;32m    753\u001b[0m             \u001b[1;31m# We're loading the component from a model. After loading the\u001b[0m\u001b[1;33m\u001b[0m\u001b[1;33m\u001b[0m\u001b[1;33m\u001b[0m\u001b[0m\n",
      "\u001b[1;31mValueError\u001b[0m: [E007] 'textcat' already exists in pipeline. Existing names: ['textcat']"
     ]
    }
   ],
   "source": [
    "#Extra testing code\n",
    "from spacy.pipeline.textcat import DEFAULT_SINGLE_TEXTCAT_MODEL\n",
    "print(DEFAULT_SINGLE_TEXTCAT_MODEL)\n",
    "# Construction via add_pipe with custom model\n",
    "config = {\"model\": {\"@architectures\": \"spacy.TextCatBOW.v1\",\"exclusive_classes\":True,}}\n",
    "textcat = nlp.add_pipe(\"textcat\", config=config)"
   ]
  },
  {
   "cell_type": "code",
   "execution_count": 28,
   "metadata": {},
   "outputs": [
    {
     "output_type": "execute_result",
     "data": {
      "text/plain": [
       "1"
      ]
     },
     "metadata": {},
     "execution_count": 28
    }
   ],
   "source": [
    "# Add labels to text classifier\n",
    "textcat.add_label(\"ham\")\n",
    "textcat.add_label(\"spam\")"
   ]
  },
  {
   "cell_type": "code",
   "execution_count": 54,
   "metadata": {
    "tags": [
     "outputPrepend"
    ]
   },
   "outputs": [
    {
     "output_type": "stream",
     "name": "stdout",
     "text": [
      "{'cats': {'ham': True, 'spam': False}}, {'cats': {'ham': True, 'spam': False}}, {'cats': {'ham': False, 'spam': True}}, {'cats': {'ham': True, 'spam': False}}, {'cats': {'ham': True, 'spam': False}}, {'cats': {'ham': False, 'spam': True}}, {'cats': {'ham': True, 'spam': False}}, {'cats': {'ham': True, 'spam': False}}, {'cats': {'ham': True, 'spam': False}}, {'cats': {'ham': True, 'spam': False}}, {'cats': {'ham': True, 'spam': False}}, {'cats': {'ham': True, 'spam': False}}, {'cats': {'ham': True, 'spam': False}}, {'cats': {'ham': True, 'spam': False}}, {'cats': {'ham': True, 'spam': False}}, {'cats': {'ham': True, 'spam': False}}, {'cats': {'ham': True, 'spam': False}}, {'cats': {'ham': True, 'spam': False}}, {'cats': {'ham': True, 'spam': False}}, {'cats': {'ham': True, 'spam': False}}, {'cats': {'ham': True, 'spam': False}}, {'cats': {'ham': True, 'spam': False}}, {'cats': {'ham': True, 'spam': False}}, {'cats': {'ham': True, 'spam': False}}, {'cats': {'ham': True, 'spam': False}}, {'cats': {'ham': True, 'spam': False}}, {'cats': {'ham': False, 'spam': True}}, {'cats': {'ham': True, 'spam': False}}, {'cats': {'ham': True, 'spam': False}}, {'cats': {'ham': True, 'spam': False}}, {'cats': {'ham': False, 'spam': True}}, {'cats': {'ham': True, 'spam': False}}, {'cats': {'ham': True, 'spam': False}}, {'cats': {'ham': True, 'spam': False}}, {'cats': {'ham': True, 'spam': False}}, {'cats': {'ham': True, 'spam': False}}, {'cats': {'ham': True, 'spam': False}}, {'cats': {'ham': True, 'spam': False}}, {'cats': {'ham': False, 'spam': True}}, {'cats': {'ham': True, 'spam': False}}, {'cats': {'ham': False, 'spam': True}}, {'cats': {'ham': True, 'spam': False}}, {'cats': {'ham': True, 'spam': False}}, {'cats': {'ham': False, 'spam': True}}, {'cats': {'ham': True, 'spam': False}}, {'cats': {'ham': True, 'spam': False}}, {'cats': {'ham': True, 'spam': False}}, {'cats': {'ham': True, 'spam': False}}, {'cats': {'ham': False, 'spam': True}}, {'cats': {'ham': True, 'spam': False}}, {'cats': {'ham': True, 'spam': False}}, {'cats': {'ham': True, 'spam': False}}, {'cats': {'ham': True, 'spam': False}}, {'cats': {'ham': True, 'spam': False}}, {'cats': {'ham': True, 'spam': False}}, {'cats': {'ham': True, 'spam': False}}, {'cats': {'ham': True, 'spam': False}}, {'cats': {'ham': True, 'spam': False}}, {'cats': {'ham': True, 'spam': False}}, {'cats': {'ham': True, 'spam': False}}, {'cats': {'ham': True, 'spam': False}}, {'cats': {'ham': True, 'spam': False}}, {'cats': {'ham': True, 'spam': False}}, {'cats': {'ham': True, 'spam': False}}, {'cats': {'ham': True, 'spam': False}}, {'cats': {'ham': False, 'spam': True}}, {'cats': {'ham': True, 'spam': False}}, {'cats': {'ham': True, 'spam': False}}, {'cats': {'ham': True, 'spam': False}}, {'cats': {'ham': False, 'spam': True}}, {'cats': {'ham': True, 'spam': False}}, {'cats': {'ham': True, 'spam': False}}, {'cats': {'ham': True, 'spam': False}}, {'cats': {'ham': True, 'spam': False}}, {'cats': {'ham': True, 'spam': False}}, {'cats': {'ham': False, 'spam': True}}, {'cats': {'ham': True, 'spam': False}}, {'cats': {'ham': True, 'spam': False}}, {'cats': {'ham': True, 'spam': False}}, {'cats': {'ham': True, 'spam': False}}, {'cats': {'ham': True, 'spam': False}}, {'cats': {'ham': True, 'spam': False}}, {'cats': {'ham': True, 'spam': False}}, {'cats': {'ham': True, 'spam': False}}, {'cats': {'ham': True, 'spam': False}}, {'cats': {'ham': True, 'spam': False}}, {'cats': {'ham': True, 'spam': False}}, {'cats': {'ham': True, 'spam': False}}, {'cats': {'ham': True, 'spam': False}}, {'cats': {'ham': True, 'spam': False}}, {'cats': {'ham': True, 'spam': False}}, {'cats': {'ham': True, 'spam': False}}, {'cats': {'ham': False, 'spam': True}}, {'cats': {'ham': True, 'spam': False}}, {'cats': {'ham': True, 'spam': False}}, {'cats': {'ham': True, 'spam': False}}, {'cats': {'ham': True, 'spam': False}}, {'cats': {'ham': True, 'spam': False}}, {'cats': {'ham': True, 'spam': False}}, {'cats': {'ham': True, 'spam': False}}, {'cats': {'ham': True, 'spam': False}}, {'cats': {'ham': True, 'spam': False}}, {'cats': {'ham': True, 'spam': False}}, {'cats': {'ham': True, 'spam': False}}, {'cats': {'ham': True, 'spam': False}}, {'cats': {'ham': True, 'spam': False}}, {'cats': {'ham': False, 'spam': True}}, {'cats': {'ham': True, 'spam': False}}, {'cats': {'ham': True, 'spam': False}}, {'cats': {'ham': True, 'spam': False}}, {'cats': {'ham': True, 'spam': False}}, {'cats': {'ham': True, 'spam': False}}, {'cats': {'ham': True, 'spam': False}}, {'cats': {'ham': True, 'spam': False}}, {'cats': {'ham': True, 'spam': False}}, {'cats': {'ham': True, 'spam': False}}, {'cats': {'ham': True, 'spam': False}}, {'cats': {'ham': False, 'spam': True}}, {'cats': {'ham': False, 'spam': True}}, {'cats': {'ham': True, 'spam': False}}, {'cats': {'ham': True, 'spam': False}}, {'cats': {'ham': True, 'spam': False}}, {'cats': {'ham': True, 'spam': False}}, {'cats': {'ham': True, 'spam': False}}, {'cats': {'ham': False, 'spam': True}}, {'cats': {'ham': True, 'spam': False}}, {'cats': {'ham': True, 'spam': False}}, {'cats': {'ham': True, 'spam': False}}, {'cats': {'ham': False, 'spam': True}}, {'cats': {'ham': False, 'spam': True}}, {'cats': {'ham': True, 'spam': False}}, {'cats': {'ham': True, 'spam': False}}, {'cats': {'ham': True, 'spam': False}}, {'cats': {'ham': False, 'spam': True}}, {'cats': {'ham': True, 'spam': False}}, {'cats': {'ham': True, 'spam': False}}, {'cats': {'ham': True, 'spam': False}}, {'cats': {'ham': True, 'spam': False}}, {'cats': {'ham': True, 'spam': False}}, {'cats': {'ham': True, 'spam': False}}, {'cats': {'ham': True, 'spam': False}}, {'cats': {'ham': True, 'spam': False}}, {'cats': {'ham': False, 'spam': True}}, {'cats': {'ham': True, 'spam': False}}, {'cats': {'ham': True, 'spam': False}}, {'cats': {'ham': True, 'spam': False}}, {'cats': {'ham': True, 'spam': False}}, {'cats': {'ham': True, 'spam': False}}, {'cats': {'ham': True, 'spam': False}}, {'cats': {'ham': True, 'spam': False}}, {'cats': {'ham': True, 'spam': False}}, {'cats': {'ham': True, 'spam': False}}, {'cats': {'ham': True, 'spam': False}}, {'cats': {'ham': True, 'spam': False}}, {'cats': {'ham': True, 'spam': False}}, {'cats': {'ham': True, 'spam': False}}, {'cats': {'ham': False, 'spam': True}}, {'cats': {'ham': True, 'spam': False}}, {'cats': {'ham': True, 'spam': False}}, {'cats': {'ham': True, 'spam': False}}, {'cats': {'ham': False, 'spam': True}}, {'cats': {'ham': True, 'spam': False}}, {'cats': {'ham': True, 'spam': False}}, {'cats': {'ham': True, 'spam': False}}, {'cats': {'ham': True, 'spam': False}}, {'cats': {'ham': False, 'spam': True}}, {'cats': {'ham': True, 'spam': False}}, {'cats': {'ham': True, 'spam': False}}, {'cats': {'ham': True, 'spam': False}}, {'cats': {'ham': True, 'spam': False}}, {'cats': {'ham': True, 'spam': False}}, {'cats': {'ham': True, 'spam': False}}, {'cats': {'ham': True, 'spam': False}}, {'cats': {'ham': True, 'spam': False}}, {'cats': {'ham': True, 'spam': False}}, {'cats': {'ham': True, 'spam': False}}, {'cats': {'ham': True, 'spam': False}}, {'cats': {'ham': True, 'spam': False}}, {'cats': {'ham': False, 'spam': True}}, {'cats': {'ham': True, 'spam': False}}, {'cats': {'ham': True, 'spam': False}}, {'cats': {'ham': True, 'spam': False}}, {'cats': {'ham': True, 'spam': False}}, {'cats': {'ham': True, 'spam': False}}, {'cats': {'ham': True, 'spam': False}}, {'cats': {'ham': True, 'spam': False}}, {'cats': {'ham': True, 'spam': False}}, {'cats': {'ham': True, 'spam': False}}, {'cats': {'ham': True, 'spam': False}}, {'cats': {'ham': True, 'spam': False}}, {'cats': {'ham': True, 'spam': False}}, {'cats': {'ham': True, 'spam': False}}, {'cats': {'ham': True, 'spam': False}}, {'cats': {'ham': True, 'spam': False}}, {'cats': {'ham': True, 'spam': False}}, {'cats': {'ham': True, 'spam': False}}, {'cats': {'ham': True, 'spam': False}}, {'cats': {'ham': False, 'spam': True}}, {'cats': {'ham': True, 'spam': False}}, {'cats': {'ham': True, 'spam': False}}, {'cats': {'ham': True, 'spam': False}}, {'cats': {'ham': True, 'spam': False}}, {'cats': {'ham': True, 'spam': False}}, {'cats': {'ham': True, 'spam': False}}, {'cats': {'ham': True, 'spam': False}}, {'cats': {'ham': True, 'spam': False}}, {'cats': {'ham': False, 'spam': True}}, {'cats': {'ham': True, 'spam': False}}, {'cats': {'ham': True, 'spam': False}}, {'cats': {'ham': True, 'spam': False}}, {'cats': {'ham': True, 'spam': False}}, {'cats': {'ham': True, 'spam': False}}, {'cats': {'ham': True, 'spam': False}}, {'cats': {'ham': False, 'spam': True}}, {'cats': {'ham': True, 'spam': False}}, {'cats': {'ham': True, 'spam': False}}, {'cats': {'ham': True, 'spam': False}}, {'cats': {'ham': True, 'spam': False}}, {'cats': {'ham': True, 'spam': False}}, {'cats': {'ham': True, 'spam': False}}, {'cats': {'ham': False, 'spam': True}}, {'cats': {'ham': True, 'spam': False}}, {'cats': {'ham': False, 'spam': True}}, {'cats': {'ham': True, 'spam': False}}, {'cats': {'ham': True, 'spam': False}}, {'cats': {'ham': True, 'spam': False}}, {'cats': {'ham': True, 'spam': False}}, {'cats': {'ham': True, 'spam': False}}, {'cats': {'ham': True, 'spam': False}}, {'cats': {'ham': True, 'spam': False}}, {'cats': {'ham': True, 'spam': False}}, {'cats': {'ham': True, 'spam': False}}, {'cats': {'ham': True, 'spam': False}}, {'cats': {'ham': True, 'spam': False}}, {'cats': {'ham': True, 'spam': False}}, {'cats': {'ham': True, 'spam': False}}, {'cats': {'ham': True, 'spam': False}}, {'cats': {'ham': True, 'spam': False}}, {'cats': {'ham': True, 'spam': False}}, {'cats': {'ham': True, 'spam': False}}, {'cats': {'ham': True, 'spam': False}}, {'cats': {'ham': True, 'spam': False}}, {'cats': {'ham': False, 'spam': True}}, {'cats': {'ham': True, 'spam': False}}, {'cats': {'ham': True, 'spam': False}}, {'cats': {'ham': True, 'spam': False}}, {'cats': {'ham': True, 'spam': False}}, {'cats': {'ham': True, 'spam': False}}, {'cats': {'ham': True, 'spam': False}}, {'cats': {'ham': True, 'spam': False}}, {'cats': {'ham': True, 'spam': False}}, {'cats': {'ham': True, 'spam': False}}, {'cats': {'ham': True, 'spam': False}}, {'cats': {'ham': True, 'spam': False}}, {'cats': {'ham': True, 'spam': False}}, {'cats': {'ham': True, 'spam': False}}, {'cats': {'ham': True, 'spam': False}}, {'cats': {'ham': True, 'spam': False}}, {'cats': {'ham': True, 'spam': False}}, {'cats': {'ham': True, 'spam': False}}, {'cats': {'ham': True, 'spam': False}}, {'cats': {'ham': True, 'spam': False}}, {'cats': {'ham': True, 'spam': False}}, {'cats': {'ham': True, 'spam': False}}, {'cats': {'ham': True, 'spam': False}}, {'cats': {'ham': True, 'spam': False}}, {'cats': {'ham': True, 'spam': False}}, {'cats': {'ham': True, 'spam': False}}, {'cats': {'ham': True, 'spam': False}}, {'cats': {'ham': True, 'spam': False}}, {'cats': {'ham': False, 'spam': True}}, {'cats': {'ham': True, 'spam': False}}, {'cats': {'ham': True, 'spam': False}}, {'cats': {'ham': True, 'spam': False}}, {'cats': {'ham': True, 'spam': False}}, {'cats': {'ham': True, 'spam': False}}, {'cats': {'ham': True, 'spam': False}}, {'cats': {'ham': True, 'spam': False}}, {'cats': {'ham': True, 'spam': False}}, {'cats': {'ham': True, 'spam': False}}, {'cats': {'ham': True, 'spam': False}}, {'cats': {'ham': True, 'spam': False}}, {'cats': {'ham': True, 'spam': False}}, {'cats': {'ham': True, 'spam': False}}, {'cats': {'ham': True, 'spam': False}}, {'cats': {'ham': True, 'spam': False}}, {'cats': {'ham': True, 'spam': False}}, {'cats': {'ham': True, 'spam': False}}, {'cats': {'ham': True, 'spam': False}}, {'cats': {'ham': True, 'spam': False}}, {'cats': {'ham': True, 'spam': False}}, {'cats': {'ham': True, 'spam': False}}, {'cats': {'ham': False, 'spam': True}}, {'cats': {'ham': False, 'spam': True}}, {'cats': {'ham': False, 'spam': True}}, {'cats': {'ham': True, 'spam': False}}, {'cats': {'ham': False, 'spam': True}}, {'cats': {'ham': True, 'spam': False}}, {'cats': {'ham': False, 'spam': True}}, {'cats': {'ham': True, 'spam': False}}, {'cats': {'ham': True, 'spam': False}}, {'cats': {'ham': True, 'spam': False}}, {'cats': {'ham': True, 'spam': False}}, {'cats': {'ham': True, 'spam': False}}, {'cats': {'ham': True, 'spam': False}}, {'cats': {'ham': False, 'spam': True}}, {'cats': {'ham': False, 'spam': True}}, {'cats': {'ham': True, 'spam': False}}, {'cats': {'ham': True, 'spam': False}}, {'cats': {'ham': False, 'spam': True}}, {'cats': {'ham': True, 'spam': False}}, {'cats': {'ham': True, 'spam': False}}, {'cats': {'ham': True, 'spam': False}}, {'cats': {'ham': True, 'spam': False}}, {'cats': {'ham': True, 'spam': False}}, {'cats': {'ham': True, 'spam': False}}, {'cats': {'ham': True, 'spam': False}}, {'cats': {'ham': True, 'spam': False}}, {'cats': {'ham': True, 'spam': False}}, {'cats': {'ham': True, 'spam': False}}, {'cats': {'ham': True, 'spam': False}}, {'cats': {'ham': True, 'spam': False}}, {'cats': {'ham': True, 'spam': False}}, {'cats': {'ham': True, 'spam': False}}, {'cats': {'ham': True, 'spam': False}}, {'cats': {'ham': True, 'spam': False}}, {'cats': {'ham': True, 'spam': False}}, {'cats': {'ham': True, 'spam': False}}, {'cats': {'ham': True, 'spam': False}}, {'cats': {'ham': True, 'spam': False}}, {'cats': {'ham': True, 'spam': False}}, {'cats': {'ham': True, 'spam': False}}, {'cats': {'ham': True, 'spam': False}}, {'cats': {'ham': True, 'spam': False}}, {'cats': {'ham': True, 'spam': False}}, {'cats': {'ham': True, 'spam': False}}, {'cats': {'ham': True, 'spam': False}}, {'cats': {'ham': True, 'spam': False}}, {'cats': {'ham': True, 'spam': False}}, {'cats': {'ham': True, 'spam': False}}, {'cats': {'ham': True, 'spam': False}}, {'cats': {'ham': True, 'spam': False}}, {'cats': {'ham': True, 'spam': False}}, {'cats': {'ham': True, 'spam': False}}, {'cats': {'ham': True, 'spam': False}}, {'cats': {'ham': True, 'spam': False}}, {'cats': {'ham': True, 'spam': False}}, {'cats': {'ham': True, 'spam': False}}, {'cats': {'ham': True, 'spam': False}}, {'cats': {'ham': True, 'spam': False}}, {'cats': {'ham': True, 'spam': False}}, {'cats': {'ham': True, 'spam': False}}, {'cats': {'ham': True, 'spam': False}}, {'cats': {'ham': True, 'spam': False}}, {'cats': {'ham': True, 'spam': False}}, {'cats': {'ham': False, 'spam': True}}, {'cats': {'ham': True, 'spam': False}}, {'cats': {'ham': True, 'spam': False}}, {'cats': {'ham': True, 'spam': False}}, {'cats': {'ham': True, 'spam': False}}, {'cats': {'ham': True, 'spam': False}}, {'cats': {'ham': True, 'spam': False}}, {'cats': {'ham': True, 'spam': False}}, {'cats': {'ham': True, 'spam': False}}, {'cats': {'ham': True, 'spam': False}}, {'cats': {'ham': True, 'spam': False}}, {'cats': {'ham': True, 'spam': False}}, {'cats': {'ham': True, 'spam': False}}, {'cats': {'ham': True, 'spam': False}}, {'cats': {'ham': True, 'spam': False}}, {'cats': {'ham': True, 'spam': False}}, {'cats': {'ham': False, 'spam': True}}, {'cats': {'ham': True, 'spam': False}}, {'cats': {'ham': True, 'spam': False}}, {'cats': {'ham': True, 'spam': False}}, {'cats': {'ham': True, 'spam': False}}, {'cats': {'ham': True, 'spam': False}}, {'cats': {'ham': False, 'spam': True}}, {'cats': {'ham': True, 'spam': False}}, {'cats': {'ham': True, 'spam': False}}, {'cats': {'ham': True, 'spam': False}}, {'cats': {'ham': True, 'spam': False}}, {'cats': {'ham': True, 'spam': False}}, {'cats': {'ham': True, 'spam': False}}, {'cats': {'ham': False, 'spam': True}}, {'cats': {'ham': True, 'spam': False}}, {'cats': {'ham': True, 'spam': False}}, {'cats': {'ham': True, 'spam': False}}, {'cats': {'ham': False, 'spam': True}}, {'cats': {'ham': True, 'spam': False}}, {'cats': {'ham': False, 'spam': True}}, {'cats': {'ham': True, 'spam': False}}, {'cats': {'ham': True, 'spam': False}}, {'cats': {'ham': True, 'spam': False}}, {'cats': {'ham': False, 'spam': True}}, {'cats': {'ham': False, 'spam': True}}, {'cats': {'ham': False, 'spam': True}}, {'cats': {'ham': True, 'spam': False}}, {'cats': {'ham': True, 'spam': False}}, {'cats': {'ham': True, 'spam': False}}, {'cats': {'ham': True, 'spam': False}}, {'cats': {'ham': True, 'spam': False}}, {'cats': {'ham': True, 'spam': False}}, {'cats': {'ham': True, 'spam': False}}, {'cats': {'ham': True, 'spam': False}}, {'cats': {'ham': True, 'spam': False}}, {'cats': {'ham': True, 'spam': False}}, {'cats': {'ham': True, 'spam': False}}, {'cats': {'ham': True, 'spam': False}}, {'cats': {'ham': True, 'spam': False}}, {'cats': {'ham': False, 'spam': True}}, {'cats': {'ham': True, 'spam': False}}, {'cats': {'ham': True, 'spam': False}}, {'cats': {'ham': True, 'spam': False}}, {'cats': {'ham': True, 'spam': False}}, {'cats': {'ham': False, 'spam': True}}, {'cats': {'ham': True, 'spam': False}}, {'cats': {'ham': True, 'spam': False}}, {'cats': {'ham': True, 'spam': False}}, {'cats': {'ham': True, 'spam': False}}, {'cats': {'ham': False, 'spam': True}}, {'cats': {'ham': True, 'spam': False}}, {'cats': {'ham': True, 'spam': False}}, {'cats': {'ham': True, 'spam': False}}, {'cats': {'ham': True, 'spam': False}}, {'cats': {'ham': False, 'spam': True}}, {'cats': {'ham': True, 'spam': False}}, {'cats': {'ham': True, 'spam': False}}, {'cats': {'ham': True, 'spam': False}}, {'cats': {'ham': False, 'spam': True}}, {'cats': {'ham': True, 'spam': False}}, {'cats': {'ham': True, 'spam': False}}, {'cats': {'ham': True, 'spam': False}}, {'cats': {'ham': True, 'spam': False}}, {'cats': {'ham': True, 'spam': False}}, {'cats': {'ham': True, 'spam': False}}, {'cats': {'ham': True, 'spam': False}}, {'cats': {'ham': True, 'spam': False}}, {'cats': {'ham': True, 'spam': False}}, {'cats': {'ham': True, 'spam': False}}, {'cats': {'ham': True, 'spam': False}}, {'cats': {'ham': True, 'spam': False}}, {'cats': {'ham': True, 'spam': False}}, {'cats': {'ham': True, 'spam': False}}, {'cats': {'ham': True, 'spam': False}}, {'cats': {'ham': True, 'spam': False}}, {'cats': {'ham': True, 'spam': False}}, {'cats': {'ham': True, 'spam': False}}, {'cats': {'ham': True, 'spam': False}}, {'cats': {'ham': True, 'spam': False}}, {'cats': {'ham': True, 'spam': False}}, {'cats': {'ham': True, 'spam': False}}, {'cats': {'ham': False, 'spam': True}}, {'cats': {'ham': True, 'spam': False}}, {'cats': {'ham': False, 'spam': True}}, {'cats': {'ham': True, 'spam': False}}, {'cats': {'ham': True, 'spam': False}}, {'cats': {'ham': True, 'spam': False}}, {'cats': {'ham': True, 'spam': False}}, {'cats': {'ham': True, 'spam': False}}, {'cats': {'ham': True, 'spam': False}}, {'cats': {'ham': True, 'spam': False}}, {'cats': {'ham': True, 'spam': False}}, {'cats': {'ham': True, 'spam': False}}, {'cats': {'ham': True, 'spam': False}}, {'cats': {'ham': False, 'spam': True}}, {'cats': {'ham': True, 'spam': False}}, {'cats': {'ham': True, 'spam': False}}, {'cats': {'ham': False, 'spam': True}}, {'cats': {'ham': True, 'spam': False}}, {'cats': {'ham': True, 'spam': False}}, {'cats': {'ham': True, 'spam': False}}, {'cats': {'ham': True, 'spam': False}}, {'cats': {'ham': True, 'spam': False}}, {'cats': {'ham': True, 'spam': False}}, {'cats': {'ham': False, 'spam': True}}, {'cats': {'ham': True, 'spam': False}}, {'cats': {'ham': True, 'spam': False}}, {'cats': {'ham': True, 'spam': False}}, {'cats': {'ham': True, 'spam': False}}, {'cats': {'ham': True, 'spam': False}}, {'cats': {'ham': True, 'spam': False}}, {'cats': {'ham': True, 'spam': False}}, {'cats': {'ham': True, 'spam': False}}, {'cats': {'ham': True, 'spam': False}}, {'cats': {'ham': True, 'spam': False}}, {'cats': {'ham': True, 'spam': False}}, {'cats': {'ham': True, 'spam': False}}, {'cats': {'ham': True, 'spam': False}}, {'cats': {'ham': True, 'spam': False}}, {'cats': {'ham': True, 'spam': False}}, {'cats': {'ham': True, 'spam': False}}, {'cats': {'ham': True, 'spam': False}}, {'cats': {'ham': True, 'spam': False}}, {'cats': {'ham': False, 'spam': True}}, {'cats': {'ham': False, 'spam': True}}, {'cats': {'ham': True, 'spam': False}}, {'cats': {'ham': True, 'spam': False}}, {'cats': {'ham': True, 'spam': False}}, {'cats': {'ham': True, 'spam': False}}]\n"
     ]
    }
   ],
   "source": [
    "train_texts = spam['text'].values\n",
    "train_labels = [{'cats': {'ham': label == 'ham',\n",
    "                          'spam': label == 'spam'}} \n",
    "                for label in spam['label']]\n",
    "print(train_labels)"
   ]
  },
  {
   "cell_type": "code",
   "execution_count": 30,
   "metadata": {},
   "outputs": [
    {
     "output_type": "execute_result",
     "data": {
      "text/plain": [
       "[('Go until jurong point, crazy.. Available only in bugis n great world la e buffet... Cine there got amore wat...',\n",
       "  {'cats': {'ham': True, 'spam': False}}),\n",
       " ('Ok lar... Joking wif u oni...', {'cats': {'ham': True, 'spam': False}}),\n",
       " (\"Free entry in 2 a wkly comp to win FA Cup final tkts 21st May 2005. Text FA to 87121 to receive entry question(std txt rate)T&C's apply 08452810075over18's\",\n",
       "  {'cats': {'ham': False, 'spam': True}})]"
      ]
     },
     "metadata": {},
     "execution_count": 30
    }
   ],
   "source": [
    "train_data = list(zip(train_texts, train_labels))\n",
    "train_data[:3]"
   ]
  },
  {
   "cell_type": "code",
   "execution_count": 32,
   "metadata": {},
   "outputs": [
    {
     "output_type": "stream",
     "name": "stdout",
     "text": [
      "{'textcat': 1.6104520383919407e-08}\n",
      "{'textcat': 3.1304915992791393e-08}\n",
      "{'textcat': 4.5657970737522646e-08}\n",
      "{'textcat': 5.922187007456614e-08}\n",
      "{'textcat': 7.205341834293222e-08}\n",
      "{'textcat': 8.420693387023448e-08}\n",
      "{'textcat': 9.573365655768384e-08}\n",
      "{'textcat': 1.066813712924386e-07}\n",
      "{'textcat': 1.1709421965377942e-07}\n",
      "{'textcat': 1.270126563923668e-07}\n",
      "{'textcat': 1.3647353735990464e-07}\n",
      "{'textcat': 1.455103060266083e-07}\n",
      "{'textcat': 1.5415324483569748e-07}\n",
      "{'textcat': 1.624297674140962e-07}\n",
      "{'textcat': 1.7036471877673875e-07}\n",
      "{'textcat': 1.779806675372697e-07}\n",
      "{'textcat': 1.852981732497483e-07}\n",
      "{'textcat': 1.9233603332224902e-07}\n",
      "{'textcat': 1.9911148863016592e-07}\n",
      "{'textcat': 2.056404135863943e-07}\n",
      "{'textcat': 2.1193746757575127e-07}\n",
      "{'textcat': 2.1801622995809566e-07}\n",
      "{'textcat': 2.2388930975836274e-07}\n",
      "{'textcat': 2.2956843936938753e-07}\n",
      "{'textcat': 2.3506455315569497e-07}\n",
      "{'textcat': 2.4038784962598925e-07}\n",
      "{'textcat': 2.45547850941108e-07}\n",
      "{'textcat': 2.505534486552108e-07}\n",
      "{'textcat': 2.5541294590425423e-07}\n",
      "{'textcat': 2.601340978181099e-07}\n",
      "{'textcat': 2.647241430508984e-07}\n",
      "{'textcat': 2.691898388640368e-07}\n",
      "{'textcat': 2.735374904361265e-07}\n",
      "{'textcat': 2.777729792846628e-07}\n",
      "{'textcat': 2.81901791243655e-07}\n",
      "{'textcat': 2.8592904488533577e-07}\n",
      "{'textcat': 2.8985951416871103e-07}\n",
      "{'textcat': 2.936976550849124e-07}\n",
      "{'textcat': 2.974476278616578e-07}\n",
      "{'textcat': 3.0111331761339954e-07}\n",
      "{'textcat': 3.0469835698987424e-07}\n",
      "{'textcat': 3.0820614482784947e-07}\n",
      "{'textcat': 3.1163986435878144e-07}\n",
      "{'textcat': 3.150024994180711e-07}\n",
      "{'textcat': 3.1829685154249887e-07}\n",
      "{'textcat': 3.2152555196063304e-07}\n",
      "{'textcat': 3.2469107735799696e-07}\n",
      "{'textcat': 3.2779576053521e-07}\n",
      "{'textcat': 3.308418019543069e-07}\n",
      "{'textcat': 3.338312797307452e-07}\n",
      "{'textcat': 3.3676615940336774e-07}\n",
      "{'textcat': 3.396483010398299e-07}\n",
      "{'textcat': 3.4247946789633943e-07}\n",
      "{'textcat': 3.4526133374512824e-07}\n",
      "{'textcat': 3.479954884255676e-07}\n",
      "{'textcat': 3.5068344317323863e-07}\n",
      "{'textcat': 3.5332663728127045e-07}\n",
      "{'textcat': 3.5592644120896466e-07}\n",
      "{'textcat': 3.5848416235495506e-07}\n",
      "{'textcat': 3.6100104860992133e-07}\n",
      "{'textcat': 3.634782914652135e-07}\n",
      "{'textcat': 3.659170302316994e-07}\n",
      "{'textcat': 3.683183547043001e-07}\n",
      "{'textcat': 3.706833076044802e-07}\n",
      "{'textcat': 3.7301288813296196e-07}\n",
      "{'textcat': 3.753080537460818e-07}\n",
      "{'textcat': 3.7756972282032564e-07}\n",
      "{'textcat': 3.7979877620664126e-07}\n",
      "{'textcat': 3.8199605989497343e-07}\n",
      "{'textcat': 3.8416238656857615e-07}\n",
      "{'textcat': 3.8629853693628036e-07}\n",
      "{'textcat': 3.884052621749845e-07}\n",
      "{'textcat': 3.90483284817833e-07}\n",
      "{'textcat': 3.925333005305731e-07}\n",
      "{'textcat': 3.945559792217779e-07}\n",
      "{'textcat': 3.965519661530692e-07}\n",
      "{'textcat': 3.985218839375193e-07}\n",
      "{'textcat': 4.004663325396507e-07}\n",
      "{'textcat': 4.02385891051793e-07}\n",
      "{'textcat': 4.0428111836021685e-07}\n",
      "{'textcat': 4.061525549214906e-07}\n",
      "{'textcat': 4.0800072198532433e-07}\n",
      "{'textcat': 4.0982612425910503e-07}\n",
      "{'textcat': 4.11629249685852e-07}\n",
      "{'textcat': 4.1341057011035076e-07}\n",
      "{'textcat': 4.151705426114205e-07}\n",
      "{'textcat': 4.1690960939089194e-07}\n",
      "{'textcat': 4.186281995499641e-07}\n",
      "{'textcat': 4.203267282010259e-07}\n",
      "{'textcat': 4.2200559846605756e-07}\n",
      "{'textcat': 4.2366520103254146e-07}\n",
      "{'textcat': 4.253059151526628e-07}\n",
      "{'textcat': 4.2692810875433196e-07}\n",
      "{'textcat': 4.2853213932936285e-07}\n",
      "{'textcat': 4.30118353933473e-07}\n",
      "{'textcat': 4.316870899634395e-07}\n",
      "{'textcat': 4.3323867515709935e-07}\n",
      "{'textcat': 4.3477342848152745e-07}\n",
      "{'textcat': 4.362916601330369e-07}\n",
      "{'textcat': 4.3779367187024576e-07}\n",
      "{'textcat': 4.392797573471441e-07}\n",
      "{'textcat': 4.407502024461607e-07}\n",
      "{'textcat': 4.422052856112302e-07}\n",
      "{'textcat': 4.4364527818085975e-07}\n",
      "{'textcat': 4.4507044427710696e-07}\n",
      "{'textcat': 4.464810414717135e-07}\n",
      "{'textcat': 4.478773210081499e-07}\n",
      "{'textcat': 4.4925952757957077e-07}\n",
      "{'textcat': 4.50627900105971e-07}\n",
      "{'textcat': 4.519826716231634e-07}\n",
      "{'textcat': 4.533240692827789e-07}\n",
      "{'textcat': 4.546523151294224e-07}\n",
      "{'textcat': 4.5596762576760597e-07}\n",
      "{'textcat': 4.572702126948158e-07}\n",
      "{'textcat': 4.5856028263457915e-07}\n",
      "{'textcat': 4.598380373144195e-07}\n",
      "{'textcat': 4.611036739099461e-07}\n",
      "{'textcat': 4.623573853779206e-07}\n",
      "{'textcat': 4.6359935990114565e-07}\n",
      "{'textcat': 4.6482978188766566e-07}\n",
      "{'textcat': 4.660488310825883e-07}\n",
      "{'textcat': 4.6725668378932994e-07}\n",
      "{'textcat': 4.6845351242552624e-07}\n",
      "{'textcat': 4.6963948541201006e-07}\n",
      "{'textcat': 4.7081476783894516e-07}\n",
      "{'textcat': 4.71979521021737e-07}\n",
      "{'textcat': 4.7313390283409973e-07}\n",
      "{'textcat': 4.7427806815214524e-07}\n",
      "{'textcat': 4.754121684102941e-07}\n",
      "{'textcat': 4.765363518233201e-07}\n",
      "{'textcat': 4.776507636083949e-07}\n",
      "{'textcat': 4.787555459850878e-07}\n",
      "{'textcat': 4.798508383974109e-07}\n",
      "{'textcat': 4.809367774027962e-07}\n",
      "{'textcat': 4.820134966720957e-07}\n",
      "{'textcat': 4.83081127433671e-07}\n",
      "{'textcat': 4.841397981403261e-07}\n",
      "{'textcat': 4.851896345803297e-07}\n",
      "{'textcat': 4.862307604325267e-07}\n",
      "{'textcat': 4.872632967112267e-07}\n",
      "{'textcat': 4.882873620992711e-07}\n",
      "{'textcat': 4.89303072948033e-07}\n",
      "{'textcat': 4.903105433884392e-07}\n",
      "{'textcat': 4.913098854419928e-07}\n",
      "{'textcat': 4.923012089097512e-07}\n",
      "{'textcat': 4.932846212613029e-07}\n",
      "{'textcat': 4.942602284119246e-07}\n",
      "{'textcat': 4.952281339454245e-07}\n",
      "{'textcat': 4.961884395582317e-07}\n",
      "{'textcat': 4.971412449483736e-07}\n",
      "{'textcat': 4.980866482595658e-07}\n",
      "{'textcat': 4.990247455260999e-07}\n",
      "{'textcat': 4.999556308948883e-07}\n",
      "{'textcat': 5.008793971805758e-07}\n",
      "{'textcat': 5.017961350883837e-07}\n",
      "{'textcat': 5.027059340467765e-07}\n",
      "{'textcat': 5.036088814303064e-07}\n",
      "{'textcat': 5.045050632812575e-07}\n",
      "{'textcat': 5.0539456397658e-07}\n",
      "{'textcat': 5.062774663389114e-07}\n",
      "{'textcat': 5.071538517475993e-07}\n",
      "{'textcat': 5.080238001387016e-07}\n",
      "{'textcat': 5.088873900049862e-07}\n",
      "{'textcat': 5.097446982293974e-07}\n",
      "{'textcat': 5.105958004181232e-07}\n",
      "{'textcat': 5.114407710116176e-07}\n",
      "{'textcat': 5.122796828405107e-07}\n",
      "{'textcat': 5.131126076252102e-07}\n",
      "{'textcat': 5.139396156428333e-07}\n",
      "{'textcat': 5.147607760047634e-07}\n",
      "{'textcat': 5.155761564346051e-07}\n",
      "{'textcat': 5.163858238232955e-07}\n",
      "{'textcat': 5.171898432299038e-07}\n",
      "{'textcat': 5.179882792694102e-07}\n",
      "{'textcat': 5.187811949469712e-07}\n",
      "{'textcat': 5.195686521575205e-07}\n",
      "{'textcat': 5.203507119078132e-07}\n",
      "{'textcat': 5.211274339278482e-07}\n",
      "{'textcat': 5.218988768929123e-07}\n",
      "{'textcat': 5.226650985901138e-07}\n",
      "{'textcat': 5.234261554187825e-07}\n",
      "{'textcat': 5.241821031676253e-07}\n",
      "{'textcat': 5.249329964041038e-07}\n",
      "{'textcat': 5.25678888640968e-07}\n",
      "{'textcat': 5.264198326693226e-07}\n",
      "{'textcat': 5.271558801700493e-07}\n",
      "{'textcat': 5.278870819358517e-07}\n",
      "{'textcat': 5.286134877602322e-07}\n",
      "{'textcat': 5.293351466595375e-07}\n",
      "{'textcat': 5.300521067064246e-07}\n",
      "{'textcat': 5.307644150298607e-07}\n",
      "{'textcat': 5.314721181481907e-07}\n",
      "{'textcat': 5.321752614695363e-07}\n",
      "{'textcat': 5.328738896803742e-07}\n",
      "{'textcat': 5.335680468010473e-07}\n",
      "{'textcat': 5.342577759637201e-07}\n",
      "{'textcat': 5.349431194123788e-07}\n",
      "{'textcat': 5.35624118891409e-07}\n",
      "{'textcat': 5.36300815201507e-07}\n",
      "{'textcat': 5.369732485882572e-07}\n",
      "{'textcat': 5.376414585200884e-07}\n",
      "{'textcat': 5.383054839103174e-07}\n",
      "{'textcat': 5.389653628395941e-07}\n",
      "{'textcat': 5.396211329444789e-07}\n",
      "{'textcat': 5.402728310843763e-07}\n",
      "{'textcat': 5.409204936746015e-07}\n",
      "{'textcat': 5.41564156519847e-07}\n",
      "{'textcat': 5.422038548696939e-07}\n",
      "{'textcat': 5.428396234741228e-07}\n",
      "{'textcat': 5.434714966945364e-07}\n",
      "{'textcat': 5.440995082817146e-07}\n",
      "{'textcat': 5.44723691486837e-07}\n",
      "{'textcat': 5.453440793945497e-07}\n",
      "{'textcat': 5.459607044788761e-07}\n",
      "{'textcat': 5.465735989362841e-07}\n",
      "{'textcat': 5.471827946856855e-07}\n",
      "{'textcat': 5.477883232019032e-07}\n",
      "{'textcat': 5.483902157377152e-07}\n",
      "{'textcat': 5.489885032128328e-07}\n",
      "{'textcat': 5.495832163804337e-07}\n",
      "{'textcat': 5.501743856606289e-07}\n",
      "{'textcat': 5.507620413069958e-07}\n",
      "{'textcat': 5.513462134620895e-07}\n",
      "{'textcat': 5.519269319353981e-07}\n",
      "{'textcat': 5.525042263698765e-07}\n",
      "{'textcat': 5.530781263529683e-07}\n",
      "{'textcat': 5.536486611945612e-07}\n",
      "{'textcat': 5.542158602600544e-07}\n",
      "{'textcat': 5.547797525262688e-07}\n",
      "{'textcat': 5.553403670255364e-07}\n",
      "{'textcat': 5.558977324571224e-07}\n",
      "{'textcat': 5.564518776313143e-07}\n",
      "{'textcat': 5.570028310808439e-07}\n",
      "{'textcat': 5.575506211719095e-07}\n",
      "{'textcat': 5.580952762707092e-07}\n",
      "{'textcat': 5.58636824576908e-07}\n",
      "{'textcat': 5.59175294068126e-07}\n",
      "{'textcat': 5.597107126109613e-07}\n",
      "{'textcat': 5.602431079609893e-07}\n",
      "{'textcat': 5.607725077072523e-07}\n",
      "{'textcat': 5.612989392167478e-07}\n",
      "{'textcat': 5.618224299119845e-07}\n",
      "{'textcat': 5.623430067713819e-07}\n",
      "{'textcat': 5.628606968288707e-07}\n",
      "{'textcat': 5.63375526896337e-07}\n",
      "{'textcat': 5.638875235081109e-07}\n",
      "{'textcat': 5.643967131985228e-07}\n",
      "{'textcat': 5.649031222243472e-07}\n",
      "{'textcat': 5.654067766758253e-07}\n",
      "{'textcat': 5.659077025321757e-07}\n",
      "{'textcat': 5.664059253840392e-07}\n",
      "{'textcat': 5.669014708775677e-07}\n",
      "{'textcat': 5.67394364270335e-07}\n",
      "{'textcat': 5.678846308199148e-07}\n",
      "{'textcat': 5.683722953397918e-07}\n",
      "{'textcat': 5.688573825324283e-07}\n",
      "{'textcat': 5.693399169892643e-07}\n",
      "{'textcat': 5.698199229131617e-07}\n",
      "{'textcat': 5.702974243404491e-07}\n",
      "{'textcat': 5.707724450854101e-07}\n",
      "{'textcat': 5.71245008629262e-07}\n",
      "{'textcat': 5.717151383421992e-07}\n",
      "{'textcat': 5.721828571503274e-07}\n",
      "{'textcat': 5.726481879519962e-07}\n",
      "{'textcat': 5.731111531459554e-07}\n",
      "{'textcat': 5.735717750476876e-07}\n",
      "{'textcat': 5.740300755285865e-07}\n",
      "{'textcat': 5.744860762935122e-07}\n",
      "{'textcat': 5.749397986587468e-07}\n",
      "{'textcat': 5.7539126382955e-07}\n",
      "{'textcat': 5.758404925115812e-07}\n",
      "{'textcat': 5.762875052439664e-07}\n",
      "{'textcat': 5.767323222605203e-07}\n",
      "{'textcat': 5.771749634342349e-07}\n",
      "{'textcat': 5.77615448471569e-07}\n",
      "{'textcat': 5.780537966904031e-07}\n",
      "{'textcat': 5.78490027214329e-07}\n",
      "{'textcat': 5.7892415877836e-07}\n",
      "{'textcat': 5.793562098954652e-07}\n",
      "{'textcat': 5.797861988288133e-07}\n"
     ]
    }
   ],
   "source": [
    "import random\n",
    "from spacy.util import minibatch\n",
    "# V3\n",
    "from spacy.tokens import Doc\n",
    "from spacy.training import Example\n",
    "# --------\n",
    "\n",
    "\n",
    "spacy.util.fix_random_seed(1)\n",
    "nlp.begin_training()\n",
    "optimizer = nlp.initialize()\n",
    "losses={}\n",
    "\n",
    "for epoch in range(10):\n",
    "    random.shuffle(train_data)\n",
    "    # Create the batch generator with batch size = 8\n",
    "    batches = minibatch(train_data, size=200)\n",
    "    # Iterate through minibatches\n",
    "    for batch in batches:\n",
    "        # Each batch is a list of (text, label) but we need to\n",
    "        # send separate lists for texts and labels to update().\n",
    "        # This is a quick way to split a list of tuples into lists\n",
    "        # v2\n",
    "        # texts, labels = zip(*batch)\n",
    "        # nlp.update(texts, labels, sgd=optimizer)\n",
    "        # V3-------------------------------------\n",
    "        examples = [Example.from_dict(nlp(text), cats) for text, cats in train_data]\n",
    "        nlp.update(examples, sgd=optimizer, losses=losses)\n",
    "        print(losses)\n",
    "\n",
    "# v3 -----------------------------\n",
    "# Training data for text categorization\n",
    "# doc = nlp(\"I'm pretty happy about that!\")\n",
    "# gold_dict = {\"cats\": {\"POSITIVE\": 1.0, \"NEGATIVE\": 0.0}}\n",
    "# example = Example.from_dict(doc, gold_dict)"
   ]
  },
  {
   "cell_type": "code",
   "execution_count": null,
   "metadata": {},
   "outputs": [],
   "source": [
    "import random\n",
    "\n",
    "random.seed(1)\n",
    "spacy.util.fix_random_seed(1)\n",
    "optimizer = nlp.begin_training()\n",
    "\n",
    "losses = {}\n",
    "for epoch in range(10):\n",
    "    random.shuffle(train_data)\n",
    "    # Create the batch generator with batch size = 8\n",
    "    batches = minibatch(train_data, size=8)\n",
    "    # Iterate through minibatches\n",
    "    for batch in batches:\n",
    "        # Each batch is a list of (text, label) but we need to\n",
    "        # send separate lists for texts and labels to update().\n",
    "        # This is a quick way to split a list of tuples into lists\n",
    "        texts, labels = zip(*batch)\n",
    "        nlp.update(texts, labels, sgd=optimizer, losses=losses)\n",
    "    print(losses)"
   ]
  },
  {
   "cell_type": "code",
   "execution_count": 33,
   "metadata": {},
   "outputs": [
    {
     "output_type": "stream",
     "name": "stdout",
     "text": [
      "[[0.99217105 0.00782895]\n [0.2827115  0.7172885 ]]\n"
     ]
    }
   ],
   "source": [
    "texts = [\"Are you ready for the tea party????? It's gonna be wild\",\n",
    "         \"URGENT Reply to this message for GUARANTEED FREE TEA\" ]\n",
    "docs = [nlp.tokenizer(text) for text in texts]\n",
    "    \n",
    "# Use textcat to get the scores for each doc\n",
    "textcat = nlp.get_pipe('textcat')\n",
    "scores = textcat.predict(docs)\n",
    "\n",
    "print(scores)"
   ]
  },
  {
   "cell_type": "code",
   "execution_count": 36,
   "metadata": {},
   "outputs": [
    {
     "output_type": "stream",
     "name": "stdout",
     "text": [
      "['ham', 'spam']\n"
     ]
    }
   ],
   "source": [
    "# From the scores, find the label with the highest score/probability\n",
    "# predicted_labels = scores.argmax(axis=1)\n",
    "import numpy as np\n",
    "predicted_labels = np.argmax(scores, axis=1)\n",
    "\n",
    "print([textcat.labels[label] for label in predicted_labels])"
   ]
  },
  {
   "cell_type": "code",
   "execution_count": null,
   "metadata": {},
   "outputs": [],
   "source": []
  }
 ],
 "metadata": {
  "kernelspec": {
   "name": "python3",
   "display_name": "Python 3.8.3 64-bit",
   "metadata": {
    "interpreter": {
     "hash": "a0bcc70808446334ed83c7220b83919a4605c582b461619d4b3184db750255fb"
    }
   }
  },
  "language_info": {
   "codemirror_mode": {
    "name": "ipython",
    "version": 3
   },
   "file_extension": ".py",
   "mimetype": "text/x-python",
   "name": "python",
   "nbconvert_exporter": "python",
   "pygments_lexer": "ipython3",
   "version": "3.8.3-final"
  }
 },
 "nbformat": 4,
 "nbformat_minor": 2
}